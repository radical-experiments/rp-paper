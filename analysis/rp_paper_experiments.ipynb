{
 "cells": [
  {
   "cell_type": "markdown",
   "metadata": {},
   "source": [
    "# Analysis of the experiments for the so called RADICAL-Pilot paper"
   ]
  },
  {
   "cell_type": "code",
   "execution_count": 12,
   "metadata": {
    "collapsed": false
   },
   "outputs": [],
   "source": [
    "%matplotlib inline\n",
    "\n",
    "import numpy as np\n",
    "import scipy as sp\n",
    "import pandas as pd\n",
    "import scipy.stats as sps\n",
    "import statsmodels.api as sm\n",
    "\n",
    "import matplotlib as mpl\n",
    "import matplotlib.pyplot as plt\n",
    "import matplotlib.mlab as mlab\n",
    "import matplotlib.ticker as ticker\n",
    "import matplotlib.gridspec as gridspec\n",
    "\n",
    "import radical.utils as ru\n",
    "import radical.pilot as rp\n",
    "import radical.analytics as ra\n",
    "\n",
    "from IPython.display import display\n",
    "from scipy.stats import linregress\n",
    "\n",
    "pd.set_option('expand_frame_repr', False)\n",
    "pd.set_option('display.max_rows', 50)"
   ]
  },
  {
   "cell_type": "code",
   "execution_count": 2,
   "metadata": {
    "collapsed": true
   },
   "outputs": [],
   "source": [
    "# Global configurations\n",
    "# ---------------------\n",
    "\n",
    "# Use LaTeX and its body font for the diagrams' text.\n",
    "mpl.rcParams['text.usetex'] = True \n",
    "mpl.rcParams['font.family'] = 'serif'\n",
    "mpl.rcParams['font.serif']  = ['Nimbus Roman Becker No9L']\n",
    "\n",
    "# Font sizes\n",
    "SIZE = 12\n",
    "plt.rc('font', size=SIZE)  # controls default text sizes\n",
    "plt.rc('axes', titlesize=SIZE)  # fontsize of the axes title\n",
    "plt.rc('axes', labelsize=SIZE)  # fontsize of the x any y labels\n",
    "plt.rc('xtick', labelsize=SIZE)  # fontsize of the tick labels\n",
    "plt.rc('ytick', labelsize=SIZE)  # fontsize of the tick labels\n",
    "plt.rc('legend', fontsize=SIZE-2)  # legend fontsize\n",
    "plt.rc('figure', titlesize=SIZE)  # # size of the figure title\n",
    "\n",
    "# Use thinner lines for axes to avoid distractions.\n",
    "mpl.rcParams['axes.linewidth']    = 0.75\n",
    "mpl.rcParams['xtick.major.width'] = 0.75\n",
    "mpl.rcParams['xtick.minor.width'] = 0.75\n",
    "mpl.rcParams['ytick.major.width'] = 0.75\n",
    "mpl.rcParams['ytick.minor.width'] = 0.75\n",
    "\n",
    "# Do not use a box for the legend to avoid distractions.\n",
    "mpl.rcParams['legend.frameon'] = False\n",
    "\n",
    "# Helpers\n",
    "# -------\n",
    "\n",
    "# Use coordinated colors. These are the \"Tableau 20\" colors as \n",
    "# RGB. Each pair is strong/light. For a theory of color    \n",
    "tableau20 = [(31 , 119, 180), (174, 199, 232), # blue        [ 0,1 ]\n",
    "             (255, 127, 14 ), (255, 187, 120), # orange      [ 2,3 ]\n",
    "             (44 , 160, 44 ), (152, 223, 138), # green       [ 4,5 ]\n",
    "             (214, 39 , 40 ), (255, 152, 150), # red         [ 6,7 ]\n",
    "             (148, 103, 189), (197, 176, 213), # purple      [ 8,9 ]\n",
    "             (140, 86 , 75 ), (196, 156, 148), # brown       [10,11]\n",
    "             (227, 119, 194), (247, 182, 210), # pink        [12,13]\n",
    "             (188, 189, 34 ), (219, 219, 141), # yellow      [14,15]\n",
    "             (23 , 190, 207), (158, 218, 229), # cyan        [16,17]\n",
    "             (65 , 68 , 81 ), (96 , 99 , 106), # gray        [18,19]\n",
    "             (127, 127, 127), (143, 135, 130), # gray        [20,21] \n",
    "             (165, 172, 175), (199, 199, 199), # gray        [22,23]\n",
    "             (207, 207, 207)]                   # gray        [24]\n",
    "  \n",
    "# Scale the RGB values to the [0, 1] range, which is the format \n",
    "# matplotlib accepts.    \n",
    "for i in range(len(tableau20)):  \n",
    "    r, g, b = tableau20[i]  \n",
    "    tableau20[i] = (r / 255., g / 255., b / 255.)    \n",
    "\n",
    "# Return a single plot without right and top axes\n",
    "def fig_setup():\n",
    "    fig = plt.figure(figsize=(13,7))\n",
    "    ax = fig.add_subplot(111)  \n",
    "    ax.spines[\"top\"].set_visible(False)  \n",
    "    ax.spines[\"right\"].set_visible(False)  \n",
    "    ax.get_xaxis().tick_bottom()  \n",
    "    ax.get_yaxis().tick_left()\n",
    "    \n",
    "    return fig, ax"
   ]
  },
  {
   "cell_type": "code",
   "execution_count": 3,
   "metadata": {
    "collapsed": true
   },
   "outputs": [],
   "source": [
    "sessions = pd.read_csv('data/sessions.csv', index_col=0)\n",
    "pilots = pd.read_csv('data/pilots.csv', index_col=0)\n",
    "units = pd.read_csv('data/units.csv', index_col=0)"
   ]
  },
  {
   "cell_type": "code",
   "execution_count": 4,
   "metadata": {
    "collapsed": true
   },
   "outputs": [],
   "source": [
    "sessions.loc[(sessions['nunit'] >= 8   ) & (sessions['nunit'] < 16  ), 'nunit_requested'] = 8\n",
    "sessions.loc[(sessions['nunit'] >= 16  ) & (sessions['nunit'] < 32  ), 'nunit_requested'] = 16\n",
    "sessions.loc[(sessions['nunit'] >= 32  ) & (sessions['nunit'] < 64  ), 'nunit_requested'] = 32\n",
    "sessions.loc[(sessions['nunit'] >= 64  ) & (sessions['nunit'] < 128 ), 'nunit_requested'] = 64\n",
    "sessions.loc[(sessions['nunit'] >= 128 ) & (sessions['nunit'] < 256 ), 'nunit_requested'] = 128\n",
    "sessions.loc[(sessions['nunit'] >= 256 ) & (sessions['nunit'] < 512 ), 'nunit_requested'] = 256\n",
    "sessions.loc[(sessions['nunit'] >= 512 ) & (sessions['nunit'] < 1024), 'nunit_requested'] = 512\n",
    "sessions.loc[(sessions['nunit'] >= 1024) & (sessions['nunit'] < 2048), 'nunit_requested'] = 1024\n",
    "sessions.loc[(sessions['nunit'] >= 2048) & (sessions['nunit'] < 4096), 'nunit_requested'] = 2048\n",
    "sessions.loc[(sessions['nunit'] >= 4096) & (sessions['nunit'] < 8192), 'nunit_requested'] = 4096\n",
    "\n",
    "sessions['nunit_rescheduled'] = sessions['nunit'] - sessions['nunit_requested']"
   ]
  },
  {
   "cell_type": "code",
   "execution_count": 5,
   "metadata": {
    "collapsed": true
   },
   "outputs": [],
   "source": [
    "ttc = sessions[\n",
    "    ['npilot','TTC','nunit_requested']].groupby(\n",
    "        ['npilot','nunit_requested']).aggregate(\n",
    "            {'TTC':{'TTC_mean':'mean','TTC_std':'std'}})\n",
    "ttc.columns = ttc.columns.droplevel(0)\n",
    "ttc = ttc.reset_index()"
   ]
  },
  {
   "cell_type": "code",
   "execution_count": 6,
   "metadata": {
    "collapsed": false
   },
   "outputs": [],
   "source": [
    "#sessions"
   ]
  },
  {
   "cell_type": "code",
   "execution_count": 7,
   "metadata": {
    "collapsed": false,
    "scrolled": true
   },
   "outputs": [],
   "source": [
    "# pilots\n",
    "# test = pilots[pilots.sid == 'rp.session.radical.merzky.017192.0008'][['P_LRMS_RUNNING','ncore']]\n",
    "# test"
   ]
  },
  {
   "cell_type": "code",
   "execution_count": 8,
   "metadata": {
    "collapsed": false
   },
   "outputs": [],
   "source": [
    "# units"
   ]
  },
  {
   "cell_type": "markdown",
   "metadata": {},
   "source": [
    "## Experiment 1\n",
    "\n",
    "*   Use case: AMBER/CoCo ensembles for molecular sciences.\n",
    "    *   Spatial heterogeneity (Hs): 0\n",
    "    *   Temporal heterogeneity (Ht): 1\n",
    "    *   Input/output dependency among tasks (D): 1\n",
    "    *   Runtime communication among tasks (C): 1\n",
    "*   workload:\n",
    "    *   Number of stages: 2\n",
    "    *   Number of iteration for each stage: 1-20\n",
    "    *   Stage 1\n",
    "        *   Number of tasks: 128-16384 (as specified in use case proposal)\n",
    "        *   Number of cores per task: 1\n",
    "        *   Number of input files: ??\n",
    "        *   Number of output files: ??\n",
    "    *   Stage 2\n",
    "        *   Number of tasks: (n tasks Stage 1)/64-128\n",
    "        *   Number of cores per task: 64-128 (limited by CoCo scalability)\n",
    "        *   Number of input files: ??\n",
    "        *   Number of output files: ??\n",
    "*   Executables: Synapse emulator\n",
    "*   Resources: Stampede, Titan\n",
    "\n",
    "***NOTE 1***: the following is a parameter composition within the boundaries posed by the use case. It is likely the number of experiments will be reduced/aggregated.\n",
    "\n",
    "***NOTE 2***: Walltime for each pilot is calculated as:\n",
    "```\n",
    "i * mean execution time of 3 task * number of generations\n",
    "```\n",
    "`i` is 2 by default and adjusted in case of failure."
   ]
  },
  {
   "cell_type": "markdown",
   "metadata": {},
   "source": [
    "### Experiment 1.a\n",
    "\n",
    "*   Measure: concurrent 1-core tasks execution time (TTX)\n",
    "*   Hs: 0\n",
    "*   Ht: SD 25%\n",
    "*   D: 0\n",
    "*   C: 0\n",
    "\n",
    "| N tasks | N core/task | N generations | N pilot | N core/pilot | Resource       |\n",
    "|---------|-------------|---------------|---------|--------------|----------------|\n",
    "| 128     | 1           | 1             | 1       | 128          | Stampede/Titan |\n",
    "| 256     | 1           | 1             | 1       | 256          | Stampede/Titan |\n",
    "| 512     | 1           | 1             | 1       | 512          | Stampede/Titan |\n",
    "| 1024    | 1           | 1             | 1       | 1024         | Stampede/Titan |\n",
    "| 2048    | 1           | 1             | 1       | 2048         | Stampede/Titan |\n",
    "| 4096    | 1           | 1             | 1       | 4096         | Stampede/Titan |\n",
    "| 8192    | 1           | 1             | 1       | 8192         | Stampede/Titan |\n",
    "| 16384   | 1           | 1             | 1       | 16384        | Titan          |"
   ]
  },
  {
   "cell_type": "code",
   "execution_count": 9,
   "metadata": {
    "collapsed": false
   },
   "outputs": [
    {
     "data": {
      "image/png": "[encoded data removed]",
      "text/plain": [
       "<matplotlib.figure.Figure at 0x1031f38d0>"
      ]
     },
     "metadata": {},
     "output_type": "display_data"
    }
   ],
   "source": [
    "fig, ax = fig_setup()\n",
    "title_head = 'XSEDE Stampede'\n",
    "title_desc = 'Total Execution Time (TTX) of 128, 256, 512, 1024, 2048, 4096 tasks on 1 pilot with \\#cores = \\#tasks'\n",
    "title = '%s\\n%s' % (title_head, title_desc)\n",
    "fig.suptitle(title)\n",
    "\n",
    "# TTX, TTQ and TTC mean and STD per number of cores requested\n",
    "ttxqc = sessions[['ncore','U_AGENT_EXECUTING','P_LRMS_QUEUING','TTC']].groupby(['ncore'])\n",
    "means = ttxqc.aggregate( {'P_LRMS_QUEUING'   :{'TTQ':'mean'},\n",
    "                          'U_AGENT_EXECUTING':{'TTX':'mean'},\n",
    "                          'TTC'              :{'TTC':'mean'}})\n",
    "errors = ttxqc.aggregate({'P_LRMS_QUEUING'   :{'TTQ':'std'},\n",
    "                          'U_AGENT_EXECUTING':{'TTX':'std'},\n",
    "                          'TTC'              :{'TTC':'std'}})\n",
    "\n",
    "means.columns = means.columns.droplevel(0)\n",
    "errors.columns = errors.columns.droplevel(0)\n",
    "\n",
    "means.plot(y=['TTQ','TTX','TTC'], \n",
    "           yerr=errors,\n",
    "           color=[tableau20[15],tableau20[17],tableau20[9]],\n",
    "           ax=ax,\n",
    "           kind='bar')\n",
    "\n",
    "\n",
    "ax.set_xlabel('Number of Cores')\n",
    "ax.set_ylabel('Time (s)')\n",
    "\n",
    "plt.savefig('figures/stampede_ttq_ttx_ttc.pdf', dpi=600, bbox_inches='tight')"
   ]
  },
  {
   "cell_type": "code",
   "execution_count": 10,
   "metadata": {
    "collapsed": false
   },
   "outputs": [
    {
     "data": {
      "image/png": "[encoded data removed]",
      "text/plain": [
       "<matplotlib.figure.Figure at 0x1031f3bd0>"
      ]
     },
     "metadata": {},
     "output_type": "display_data"
    }
   ],
   "source": [
    "fig, ax = fig_setup()\n",
    "title_head = 'XSEDE Stampede'\n",
    "title_desc = 'Agent queueing, scheduling, and executing timings'\n",
    "title = '%s\\n%s' % (title_head, title_desc)\n",
    "fig.suptitle(title)\n",
    "\n",
    "# 'U_AGENT_QUEUING'     : ['AGENT_SCHEDULING_PENDING', 'AGENT_SCHEDULING'            ],\n",
    "# 'U_AGENT_SCHEDULING'  : ['AGENT_SCHEDULING'        , 'AGENT_EXECUTING_PENDING'     ],\n",
    "# 'U_AGENT_QUEUING_EXEC': ['AGENT_EXECUTING_PENDING' , 'AGENT_EXECUTING'             ],\n",
    "# 'U_AGENT_EXECUTING'   : ['AGENT_EXECUTING'         , 'AGENT_STAGING_OUTPUT_PENDING']}\n",
    "\n",
    "atx = sessions[['ncore',\n",
    "                'U_AGENT_QUEUING', \n",
    "                'U_AGENT_SCHEDULING',  \n",
    "                'U_AGENT_QUEUING_EXEC', \n",
    "                'U_AGENT_EXECUTING', \n",
    "                'TTC']].groupby(['ncore'])\n",
    "\n",
    "means = atx.aggregate({'U_AGENT_QUEUING'     :{'Agent queueing'          :'mean'},\n",
    "                       'U_AGENT_SCHEDULING'  :{'Agent scheduling'        :'mean'},\n",
    "                       'U_AGENT_QUEUING_EXEC':{'Agent queueing executing':'mean'},\n",
    "                       'U_AGENT_EXECUTING'   :{'Agent executing'         :'mean'},\n",
    "                       'TTC'                 :{'Total execution time'    :'mean'}})\n",
    "\n",
    "errors = atx.aggregate({'U_AGENT_QUEUING'     :{'Agent queueing'           :'std' },\n",
    "                        'U_AGENT_SCHEDULING'  :{'Agent scheduling'         :'std' },\n",
    "                        'U_AGENT_QUEUING_EXEC':{'Agent queueing executing' :'std' },\n",
    "                        'U_AGENT_EXECUTING'   :{'Agent executing'          :'std' },\n",
    "                        'TTC'                 :{'Total execution time'     :'std' }})\n",
    "\n",
    "means.columns = means.columns.droplevel(0)\n",
    "errors.columns = errors.columns.droplevel(0)\n",
    "\n",
    "means.plot.bar(y=['Agent queueing','Agent scheduling','Agent queueing executing','Agent executing'], \n",
    "               yerr=errors,\n",
    "               color=[tableau20[7],tableau20[5],tableau20[3],tableau20[1]], \n",
    "               ax=ax)\n",
    "\n",
    "ax.set_xlabel('Number of Cores')\n",
    "ax.set_ylabel('Time (s)')\n",
    "\n",
    "plt.savefig('figures/stampede_agent_timings.pdf', dpi=600, bbox_inches='tight')"
   ]
  },
  {
   "cell_type": "code",
   "execution_count": 11,
   "metadata": {
    "collapsed": false
   },
   "outputs": [
    {
     "data": {
      "text/plain": [
       "NormaltestResult(statistic=11992.537028265371, pvalue=0.0)"
      ]
     },
     "metadata": {},
     "output_type": "display_data"
    },
    {
     "data": {
      "image/png": "[encoded data removed]",
      "text/plain": [
       "<matplotlib.figure.Figure at 0x108880550>"
      ]
     },
     "metadata": {},
     "output_type": "display_data"
    }
   ],
   "source": [
    "fig, ax = fig_setup()\n",
    "title='Stampede XSEDE\\nDensity of Task Execution Time (Tx)'\n",
    "\n",
    "display(sps.normaltest(units['U_AGENT_EXECUTING'].dropna().tolist()))\n",
    "units[['U_AGENT_EXECUTING']].dropna().reset_index(drop=True).plot.density(ax=ax, color='black', title=title)\n",
    "\n",
    "plt.axvline(units['U_AGENT_EXECUTING'].dropna().mean(), color='r', linestyle='dashed', linewidth=1)\n",
    "\n",
    "ax.legend(labels=['Task Execution Time (Tx)', 'Mean'])\n",
    "\n",
    "plt.savefig('figures/stampede_tx_frequency.pdf', dpi=600, bbox_inches='tight')"
   ]
  },
  {
   "cell_type": "code",
   "execution_count": null,
   "metadata": {
    "collapsed": true
   },
   "outputs": [],
   "source": []
  }
 ],
 "metadata": {
  "hide_input": false,
  "kernelspec": {
   "display_name": "Python 2",
   "language": "python",
   "name": "python2"
  },
  "language_info": {
   "codemirror_mode": {
    "name": "ipython",
    "version": 2
   },
   "file_extension": ".py",
   "mimetype": "text/x-python",
   "name": "python",
   "nbconvert_exporter": "python",
   "pygments_lexer": "ipython2",
   "version": "2.7.10"
  },
  "latex_envs": {
   "LaTeX_envs_menu_present": true,
   "bibliofile": "biblio.bib",
   "cite_by": "apalike",
   "current_citInitial": 1,
   "eqLabelWithNumbers": true,
   "eqNumInitial": 1,
   "hotkeys": {
    "equation": "Ctrl-E",
    "itemize": "Ctrl-I"
   },
   "labels_anchors": false,
   "latex_user_defs": false,
   "report_style_numbering": false,
   "user_envs_cfg": false
  }
 },
 "nbformat": 4,
 "nbformat_minor": 1
}
