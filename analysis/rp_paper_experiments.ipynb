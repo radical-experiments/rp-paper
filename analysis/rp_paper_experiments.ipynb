{
 "cells": [
  {
   "cell_type": "markdown",
   "metadata": {},
   "source": [
    "# Analysis of the experiments for the so called RADICAL-Pilot paper"
   ]
  },
  {
   "cell_type": "code",
   "execution_count": 2,
   "metadata": {
    "collapsed": false
   },
   "outputs": [],
   "source": [
    "%matplotlib inline\n",
    "\n",
    "import numpy as np\n",
    "import scipy as sp\n",
    "import pandas as pd\n",
    "import scipy.stats as sps\n",
    "import statsmodels.api as sm\n",
    "\n",
    "import matplotlib as mpl\n",
    "import matplotlib.pyplot as plt\n",
    "import matplotlib.mlab as mlab\n",
    "import matplotlib.ticker as ticker\n",
    "import matplotlib.gridspec as gridspec\n",
    "\n",
    "import radical.utils as ru\n",
    "import radical.pilot as rp\n",
    "import radical.analytics as ra\n",
    "\n",
    "from IPython.display import display\n",
    "from scipy.stats import linregress\n",
    "\n",
    "pd.set_option('expand_frame_repr', False)\n",
    "pd.set_option('display.max_rows', 50)"
   ]
  },
  {
   "cell_type": "code",
   "execution_count": 3,
   "metadata": {
    "collapsed": true
   },
   "outputs": [],
   "source": [
    "# Global configurations\n",
    "# ---------------------\n",
    "\n",
    "# Use LaTeX and its body font for the diagrams' text.\n",
    "mpl.rcParams['text.usetex'] = True \n",
    "mpl.rcParams['font.family'] = 'serif'\n",
    "mpl.rcParams['font.serif']  = ['Nimbus Roman Becker No9L']\n",
    "\n",
    "# Font sizes\n",
    "SIZE = 12\n",
    "plt.rc('font', size=SIZE)  # controls default text sizes\n",
    "plt.rc('axes', titlesize=SIZE)  # fontsize of the axes title\n",
    "plt.rc('axes', labelsize=SIZE)  # fontsize of the x any y labels\n",
    "plt.rc('xtick', labelsize=SIZE)  # fontsize of the tick labels\n",
    "plt.rc('ytick', labelsize=SIZE)  # fontsize of the tick labels\n",
    "plt.rc('legend', fontsize=SIZE-2)  # legend fontsize\n",
    "plt.rc('figure', titlesize=SIZE)  # # size of the figure title\n",
    "\n",
    "# Use thinner lines for axes to avoid distractions.\n",
    "mpl.rcParams['axes.linewidth']    = 0.75\n",
    "mpl.rcParams['xtick.major.width'] = 0.75\n",
    "mpl.rcParams['xtick.minor.width'] = 0.75\n",
    "mpl.rcParams['ytick.major.width'] = 0.75\n",
    "mpl.rcParams['ytick.minor.width'] = 0.75\n",
    "\n",
    "# Do not use a box for the legend to avoid distractions.\n",
    "mpl.rcParams['legend.frameon'] = False\n",
    "\n",
    "# Helpers\n",
    "# -------\n",
    "\n",
    "# Use coordinated colors. These are the \"Tableau 20\" colors as \n",
    "# RGB. Each pair is strong/light. For a theory of color    \n",
    "tableau20 = [(31 , 119, 180), (174, 199, 232), # blue        [ 0,1 ]\n",
    "             (255, 127, 14 ), (255, 187, 120), # orange      [ 2,3 ]\n",
    "             (44 , 160, 44 ), (152, 223, 138), # green       [ 4,5 ]\n",
    "             (214, 39 , 40 ), (255, 152, 150), # red         [ 6,7 ]\n",
    "             (148, 103, 189), (197, 176, 213), # purple      [ 8,9 ]\n",
    "             (140, 86 , 75 ), (196, 156, 148), # brown       [10,11]\n",
    "             (227, 119, 194), (247, 182, 210), # pink        [12,13]\n",
    "             (188, 189, 34 ), (219, 219, 141), # yellow      [14,15]\n",
    "             (23 , 190, 207), (158, 218, 229), # cyan        [16,17]\n",
    "             (65 , 68 , 81 ), (96 , 99 , 106), # gray        [18,19]\n",
    "             (127, 127, 127), (143, 135, 130), # gray        [20,21] \n",
    "             (165, 172, 175), (199, 199, 199), # gray        [22,23]\n",
    "             (207, 207, 207)]                   # gray        [24]\n",
    "  \n",
    "# Scale the RGB values to the [0, 1] range, which is the format \n",
    "# matplotlib accepts.    \n",
    "for i in range(len(tableau20)):  \n",
    "    r, g, b = tableau20[i]  \n",
    "    tableau20[i] = (r / 255., g / 255., b / 255.)    \n",
    "\n",
    "# Return a single plot without right and top axes\n",
    "def fig_setup():\n",
    "    fig = plt.figure(figsize=(13,7))\n",
    "    ax = fig.add_subplot(111)  \n",
    "    ax.spines[\"top\"].set_visible(False)  \n",
    "    ax.spines[\"right\"].set_visible(False)  \n",
    "    ax.get_xaxis().tick_bottom()  \n",
    "    ax.get_yaxis().tick_left()\n",
    "    \n",
    "    return fig, ax"
   ]
  },
  {
   "cell_type": "code",
   "execution_count": null,
   "metadata": {
    "collapsed": true
   },
   "outputs": [],
   "source": []
  },
  {
   "cell_type": "code",
   "execution_count": 4,
   "metadata": {
    "collapsed": true
   },
   "outputs": [],
   "source": [
    "sessions = pd.read_csv('data/sessions.csv', index_col=0)\n",
    "pilots = pd.read_csv('data/pilots.csv', index_col=0)\n",
    "units = pd.read_csv('data/units.csv', index_col=0)"
   ]
  },
  {
   "cell_type": "markdown",
   "metadata": {},
   "source": [
    "## Experiment 1\n",
    "\n",
    "*   Use case: AMBER/CoCo ensembles for molecular sciences.\n",
    "    *   Spatial heterogeneity (Hs): 0\n",
    "    *   Temporal heterogeneity (Ht): 1\n",
    "    *   Input/output dependency among tasks (D): 1\n",
    "    *   Runtime communication among tasks (C): 1\n",
    "*   workload:\n",
    "    *   Number of stages: 2\n",
    "    *   Number of iteration for each stage: 1-20\n",
    "    *   Stage 1\n",
    "        *   Number of tasks: 128-16384 (as specified in use case proposal)\n",
    "        *   Number of cores per task: 1\n",
    "        *   Number of input files: ??\n",
    "        *   Number of output files: ??\n",
    "    *   Stage 2\n",
    "        *   Number of tasks: (n tasks Stage 1)/64-128\n",
    "        *   Number of cores per task: 64-128 (limited by CoCo scalability)\n",
    "        *   Number of input files: ??\n",
    "        *   Number of output files: ??\n",
    "*   Executables: Synapse emulator\n",
    "*   Resources: Stampede, Titan\n",
    "\n",
    "***NOTE 1***: the following is a parameter composition within the boundaries posed by the use case. It is likely the number of experiments will be reduced/aggregated.\n",
    "\n",
    "***NOTE 2***: Walltime for each pilot is calculated as:\n",
    "```\n",
    "i * mean execution time of 3 task * number of generations\n",
    "```\n",
    "`i` is 2 by default and adjusted in case of failure."
   ]
  },
  {
   "cell_type": "markdown",
   "metadata": {},
   "source": [
    "### Experiment 1.a\n",
    "\n",
    "*   Measure: concurrent 1-core tasks execution time (TTX)\n",
    "*   Hs: 0\n",
    "*   Ht: SD 25%\n",
    "*   D: 0\n",
    "*   C: 0\n",
    "\n",
    "| N tasks | N core/task | N generations | N pilot | N core/pilot | Resource       |\n",
    "|---------|-------------|---------------|---------|--------------|----------------|\n",
    "| 128     | 1           | 1             | 1       | 128          | Stampede/Titan |\n",
    "| 256     | 1           | 1             | 1       | 256          | Stampede/Titan |\n",
    "| 512     | 1           | 1             | 1       | 512          | Stampede/Titan |\n",
    "| 1024    | 1           | 1             | 1       | 1024         | Stampede/Titan |\n",
    "| 2048    | 1           | 1             | 1       | 2048         | Stampede/Titan |\n",
    "| 4096    | 1           | 1             | 1       | 4096         | Stampede/Titan |\n",
    "| 8192    | 1           | 1             | 1       | 8192         | Stampede/Titan |\n",
    "| 16384   | 1           | 1             | 1       | 16384        | Titan          |"
   ]
  },
  {
   "cell_type": "code",
   "execution_count": null,
   "metadata": {
    "collapsed": true
   },
   "outputs": [],
   "source": []
  },
  {
   "cell_type": "code",
   "execution_count": null,
   "metadata": {
    "collapsed": true
   },
   "outputs": [],
   "source": []
  }
 ],
 "metadata": {
  "hide_input": false,
  "kernelspec": {
   "display_name": "Python 2",
   "language": "python",
   "name": "python2"
  },
  "language_info": {
   "codemirror_mode": {
    "name": "ipython",
    "version": 2
   },
   "file_extension": ".py",
   "mimetype": "text/x-python",
   "name": "python",
   "nbconvert_exporter": "python",
   "pygments_lexer": "ipython2",
   "version": "2.7.10"
  },
  "latex_envs": {
   "LaTeX_envs_menu_present": true,
   "bibliofile": "biblio.bib",
   "cite_by": "apalike",
   "current_citInitial": 1,
   "eqLabelWithNumbers": true,
   "eqNumInitial": 1,
   "labels_anchors": false,
   "latex_user_defs": false,
   "report_style_numbering": false,
   "user_envs_cfg": false
  }
 },
 "nbformat": 4,
 "nbformat_minor": 1
}
